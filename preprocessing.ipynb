{
 "cells": [
  {
   "cell_type": "code",
   "execution_count": null,
   "metadata": {},
   "outputs": [],
   "source": [
    "# making sure we only get take in 2024 data\n",
    "import pandas as pd\n",
    "\n",
    "raw_matches = pd.read_excel('raw_data/matches.xlsx')\n",
    "season2024_matches = raw_matches[raw_matches['season'] == 2024]\n",
    "\n",
    "raw_deliveries = pd.read_excel('raw_data/deliveries.xlsx')\n",
    "season2024_deliveries = raw_deliveries[raw_deliveries['match_id'].isin(raw_matches['id'])]\n",
    "\n",
    "\n",
    "#print(raw_matches.head())\n",
    "print(season2024_deliveries.head())\n",
    "\n"
   ]
  },
  {
   "cell_type": "code",
   "execution_count": null,
   "metadata": {},
   "outputs": [],
   "source": [
    "print(raw_matches.dtypes)"
   ]
  },
  {
   "cell_type": "code",
   "execution_count": 19,
   "metadata": {},
   "outputs": [
    {
     "name": "stdout",
     "output_type": "stream",
     "text": [
      "           id season       city       date match_type    player_of_match  \\\n",
      "1024  1422119   2024    Chennai 2024-03-22     League  Mustafizur Rahman   \n",
      "1025  1422120   2024     Mohali 2024-03-23     League          SM Curran   \n",
      "1026  1422121   2024    Kolkata 2024-03-23     League         AD Russell   \n",
      "1027  1422122   2024     Jaipur 2024-03-24     League          SV Samson   \n",
      "1028  1422123   2024  Ahmedabad 2024-03-24     League    B Sai Sudharsan   \n",
      "\n",
      "                                                  venue  \\\n",
      "1024           MA Chidambaram Stadium, Chepauk, Chennai   \n",
      "1025  Maharaja Yadavindra Singh International Cricke...   \n",
      "1026                              Eden Gardens, Kolkata   \n",
      "1027                     Sawai Mansingh Stadium, Jaipur   \n",
      "1028                   Narendra Modi Stadium, Ahmedabad   \n",
      "\n",
      "                            team1                 team2  \\\n",
      "1024  Royal Challengers Bengaluru   Chennai Super Kings   \n",
      "1025               Delhi Capitals          Punjab Kings   \n",
      "1026        Kolkata Knight Riders   Sunrisers Hyderabad   \n",
      "1027             Rajasthan Royals  Lucknow Super Giants   \n",
      "1028               Gujarat Titans        Mumbai Indians   \n",
      "\n",
      "                      toss_winner toss_decision                 winner  \\\n",
      "1024  Royal Challengers Bengaluru           bat    Chennai Super Kings   \n",
      "1025                 Punjab Kings         field           Punjab Kings   \n",
      "1026          Sunrisers Hyderabad         field  Kolkata Knight Riders   \n",
      "1027             Rajasthan Royals           bat       Rajasthan Royals   \n",
      "1028               Mumbai Indians         field         Gujarat Titans   \n",
      "\n",
      "       result  result_margin  target_runs  target_overs super_over method  \\\n",
      "1024  wickets            6.0        174.0          20.0          N    NaN   \n",
      "1025  wickets            4.0        175.0          20.0          N    NaN   \n",
      "1026     runs            4.0        209.0          20.0          N    NaN   \n",
      "1027     runs           20.0        194.0          20.0          N    NaN   \n",
      "1028     runs            6.0        169.0          20.0          N    NaN   \n",
      "\n",
      "            umpire1          umpire2  \n",
      "1024     HAS Khalid        VK Sharma  \n",
      "1025  J Madanagopal    NA Patwardhan  \n",
      "1026       R Pandit         YC Barde  \n",
      "1027        A Totre  HDPK Dharmasena  \n",
      "1028    VA Kulkarni        VK Sharma  \n"
     ]
    }
   ],
   "source": [
    "print(season2024_matches.head())\n",
    "season2024_deliveries.to_excel('season2024_deliveries.xlsx', index=False)\n",
    "season2024_matches.to_excel('season2024_matches.xlsx', index=False)\n",
    "\n",
    "# Note: Three matches are missing from the matches file and the corresponding deliveries are missing from the deliveries file because\n",
    "# the matches were washed out and no deliveries were bowled \n"
   ]
  },
  {
   "cell_type": "code",
   "execution_count": null,
   "metadata": {},
   "outputs": [],
   "source": []
  },
  {
   "cell_type": "code",
   "execution_count": null,
   "metadata": {},
   "outputs": [],
   "source": []
  }
 ],
 "metadata": {
  "kernelspec": {
   "display_name": "Python 3",
   "language": "python",
   "name": "python3"
  },
  "language_info": {
   "codemirror_mode": {
    "name": "ipython",
    "version": 3
   },
   "file_extension": ".py",
   "mimetype": "text/x-python",
   "name": "python",
   "nbconvert_exporter": "python",
   "pygments_lexer": "ipython3",
   "version": "3.11.3"
  }
 },
 "nbformat": 4,
 "nbformat_minor": 2
}
